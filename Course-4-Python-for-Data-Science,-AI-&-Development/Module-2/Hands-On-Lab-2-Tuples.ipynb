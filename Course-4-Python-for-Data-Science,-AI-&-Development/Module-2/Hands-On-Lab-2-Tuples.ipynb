version https://git-lfs.github.com/spec/v1
oid sha256:cefbc175fadde61ae2b9b29f5ff2e20aa7a5599fc93257b3214dc361e8599cc1
size 30636
