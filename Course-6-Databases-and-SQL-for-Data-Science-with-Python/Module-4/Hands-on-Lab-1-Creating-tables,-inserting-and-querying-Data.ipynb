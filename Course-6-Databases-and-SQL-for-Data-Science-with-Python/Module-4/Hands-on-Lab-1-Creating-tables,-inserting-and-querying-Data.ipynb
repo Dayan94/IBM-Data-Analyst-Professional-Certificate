version https://git-lfs.github.com/spec/v1
oid sha256:d64a1af0b602657b3ba5694ecd5e876af2aa3ca83fc9ed4f08454cbdf67776dc
size 16124
